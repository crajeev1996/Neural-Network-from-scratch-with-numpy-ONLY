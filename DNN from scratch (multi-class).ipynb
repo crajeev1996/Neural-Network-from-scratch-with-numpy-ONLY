{
 "cells": [
  {
   "cell_type": "markdown",
   "metadata": {},
   "source": [
    "In this project, I have coded an entire L-layer Deep Neural Network framework with multi-class classification capability using just the numpy library for major computations. This project was aimed at understanding and implementing the machinery behind the basic deep neural network architecture. Some of this work has been inspired from Andrew Ng's Deep Learning Specialization which I recently completed."
   ]
  },
  {
   "cell_type": "markdown",
   "metadata": {},
   "source": [
    "First we start by importing the necessary python libraries."
   ]
  },
  {
   "cell_type": "code",
   "execution_count": 5,
   "metadata": {},
   "outputs": [],
   "source": [
    "import numpy as np\n",
    "from keras.datasets import mnist\n",
    "import matplotlib.pyplot as plt\n",
    "import h5py\n",
    "import pickle"
   ]
  },
  {
   "cell_type": "markdown",
   "metadata": {},
   "source": [
    "We shall test our custom designed network on two datasets.\n",
    "  1) MNIST dataset\n",
    "  2) cat vs non-cat dataset"
   ]
  },
  {
   "cell_type": "code",
   "execution_count": 6,
   "metadata": {},
   "outputs": [],
   "source": [
    "def load_catdata():\n",
    "    train_dataset = h5py.File('train_catvnoncat.h5', \"r\")\n",
    "    train_set_x_orig = np.array(train_dataset[\"train_set_x\"][:]) # your train set features\n",
    "    train_set_y_orig = np.array(train_dataset[\"train_set_y\"][:]) # your train set labels\n",
    "\n",
    "    test_dataset = h5py.File('test_catvnoncat.h5', \"r\")\n",
    "    test_set_x_orig = np.array(test_dataset[\"test_set_x\"][:]) # your test set features\n",
    "    test_set_y_orig = np.array(test_dataset[\"test_set_y\"][:]) # your test set labels\n",
    "\n",
    "    classes = np.array(test_dataset[\"list_classes\"][:]) # the list of classes\n",
    "    \n",
    "    train_set_y_orig = train_set_y_orig.reshape((1, train_set_y_orig.shape[0]))\n",
    "    test_set_y_orig = test_set_y_orig.reshape((1, test_set_y_orig.shape[0]))\n",
    "    \n",
    "    return train_set_x_orig, train_set_y_orig, test_set_x_orig, test_set_y_orig, classes"
   ]
  },
  {
   "cell_type": "code",
   "execution_count": 7,
   "metadata": {},
   "outputs": [],
   "source": [
    "# load cat vs noncat data\n",
    "x_train, y_train, x_test, y_test, classes = load_catdata()\n",
    "y_train = y_train.T.reshape([-1])\n",
    "y_test = y_test.T.reshape([-1])"
   ]
  },
  {
   "cell_type": "code",
   "execution_count": 8,
   "metadata": {},
   "outputs": [],
   "source": [
    "# load MNIST data\n",
    "(x_train, y_train), (x_test, y_test) = mnist.load_data()"
   ]
  },
  {
   "cell_type": "markdown",
   "metadata": {},
   "source": [
    "We shall now define and code all our primary and helper functions which shall implement the DNN."
   ]
  },
  {
   "cell_type": "code",
   "execution_count": 9,
   "metadata": {},
   "outputs": [],
   "source": [
    "def show_image(data,img_no):\n",
    "    plot = plt.imshow(data[img_no], cmap=plt.get_cmap('gray'))\n",
    "    return\n",
    "\n",
    "def flatten_and_normalize(image_dataset):\n",
    "    \"\"\"\n",
    "    function to reshape n images (tensor) into a n column vectors (length*width,n) dimensional matrix.\n",
    "    \"\"\"\n",
    "    new_data = image_dataset.reshape(image_dataset.shape[0], -1).T\n",
    "    new_data = new_data / 255\n",
    "    return new_data\n",
    "    \n",
    "def sigmoid(x, gradient=False):\n",
    "    \"\"\"\n",
    "    function for finding the sigmoid of a linear activation value 'Z' when argument gradient = False \n",
    "    or the derivative of activated value 'A' when argument gradient = True\n",
    "    \"\"\"\n",
    "    if gradient == False:\n",
    "        # Here input x = Z (X.W + b)\n",
    "        return 1/(1+np.exp(-x))\n",
    "    else:\n",
    "        # Here  input x = A (g(z))\n",
    "        return x*(1-x)\n",
    "\n",
    "def relu(x, gradient=False):\n",
    "    \"\"\"\n",
    "    function for finding the relu activation of a linear activation value 'Z' when argument gradient = False \n",
    "    or the derivative of relu activated value 'A' when argument gradient = True\n",
    "    \"\"\"\n",
    "    if gradient == False:\n",
    "        # Here input x = Z (X.W + b)\n",
    "        return np.maximum(0,x)\n",
    "        #return np.tanh(z)\n",
    "    else:\n",
    "        # Here input x = A (g(z))\n",
    "        return np.ceil(np.minimum(np.maximum(0,x),1))\n",
    "        #return (1 - np.power(z, 2))\n",
    "        \n",
    "def tanh(x, gradient = False):\n",
    "    \"\"\"\n",
    "    function for finding the tanh activation of a linear activation value 'Z' when argument gradient = False \n",
    "    or the derivative of tanh activated value 'A' when argument gradient = True\n",
    "    \"\"\"\n",
    "    if gradient == False:\n",
    "        # Here input x = Z (X.W + b)\n",
    "        return np.tanh(x)\n",
    "    else:\n",
    "        # Here input x = A (g(z))\n",
    "        return (1 - np.power(x, 2))\n",
    "    \n",
    "def softmax(x):\n",
    "    \"\"\"Compute softmax values for each sets of scores in x.\"\"\"\n",
    "    return np.exp(x) / np.sum(np.exp(x), axis=0)\n",
    "    \n",
    "def init_param(Y, n_input, n_hiddens = [3]):\n",
    "    \"\"\"\n",
    "    function to initialize weight and bias parameters\n",
    "    \"\"\"\n",
    "    n_out = Y.shape[0]\n",
    "    n_hiddens.append(n_out)\n",
    "    n_layers = [n_input] + n_hiddens\n",
    "    params = {}\n",
    "    for i in range(1,len(n_layers)):\n",
    "        params['W'+str(i)] = np.random.randn(n_layers[i],n_layers[i-1])/np.sqrt(n_layers[i-1]) \n",
    "        params['b'+str(i)] = np.zeros((n_layers[i],1))\n",
    "    return params\n",
    "\n",
    "def forward_prop(X,params,activation = 'relu'):\n",
    "    \"\"\"\n",
    "    function implementing one forward pass accross the network\n",
    "    Returns the sigmoid activations of the output layer. \n",
    "    \"\"\"   \n",
    "    n_layers = len(params)//2 \n",
    "    memory = {}\n",
    "    A = X\n",
    "   \n",
    "    # forward prop for input and hidden layers\n",
    "    for i in range(1,n_layers):\n",
    "        memory['A'+str(i-1)] = A\n",
    "        # calculate Z = W.X\n",
    "        W = params['W'+str(i)]\n",
    "        b = params['b'+str(i)]\n",
    "        Z = np.dot(W,A)+ b\n",
    "        # adding Z to memory cache for backpropagation\n",
    "        memory['Z'+str(i)] = Z\n",
    "        memory['W'+str(i)] = W\n",
    "        memory['b'+str(i)] = b\n",
    "        if activation == 'relu':\n",
    "            # calculate the activation of Z\n",
    "            A = relu(Z)\n",
    "        elif activation == 'tanh':\n",
    "            # calculate the activation of Z\n",
    "            A = tanh(Z)\n",
    "    \n",
    "    #forward prop for output layer\n",
    "    memory['A'+str(n_layers-1)] = A\n",
    "    W = params['W'+str(n_layers)]\n",
    "    b = params['b'+str(n_layers)]\n",
    "    Z = np.dot(W,A)+ b\n",
    "    memory['Z'+str(n_layers)] = Z\n",
    "    memory['W'+str(n_layers)] = W\n",
    "    memory['b'+str(n_layers)] = b\n",
    "    # calculate the activation of output layer\n",
    "    A = softmax(Z)\n",
    "    return A,memory \n",
    "\n",
    "def softmax_loss(activation,y):\n",
    "    \"\"\"\n",
    "    function to calculate cross-entropy loss of activation matrix w.r.t a y-matrix\n",
    "    \"\"\"\n",
    "    m = y.shape[1]\n",
    "    return (-1/m)*np.sum(y*np.log(activation))\n",
    "\n",
    "def back_prop(out_activation,Y,cache,activation = 'relu'):\n",
    "    \"\"\"\n",
    "    function implementing back propagation accross the network\n",
    "    Returns gradients of W and b vectors w.r.t the cross-entropy loss. \n",
    "    \"\"\"  \n",
    "    n_layers = len(cache)//4\n",
    "    grads = {}\n",
    "    m = Y.shape[1]\n",
    "    \n",
    "    ## computing gradients for output layer\n",
    "    # computing dL/dZ for output layer\n",
    "    dLdZ = out_activation - Y\n",
    "    \n",
    "    # computing dL/dW for output layer and entering into grads dictionary\n",
    "    A_prev = cache['A'+str(n_layers-1)]\n",
    "    dLdW = (np.dot(dLdZ,A_prev.T))/m\n",
    "    grads['dW'+str(n_layers)] = dLdW\n",
    "    \n",
    "    # computing dL/db for output layer and entering into grads dictionary\n",
    "    dLdb = (np.sum(dLdZ,axis = 1,keepdims = True))/m\n",
    "    grads['db'+str(n_layers)] = dLdb\n",
    "    \n",
    "    ## computing gradients for hidden layers\n",
    "    for i in reversed(range(1,n_layers)):\n",
    "        # computing dL/dZ\n",
    "        W = cache['W'+str(i+1)]\n",
    "        A = cache['A'+str(i)]\n",
    "        if activation == 'relu':\n",
    "            dLdZ = np.dot(W.T,dLdZ) * relu(A, gradient = True)\n",
    "        elif activation == 'tanh':\n",
    "            dLdZ = np.dot(W.T,dLdZ) * tanh(A, gradient = True)\n",
    "        \n",
    "        # computing dL/dW and entering into grads dictionary\n",
    "        A_prev = cache['A'+str(i-1)]\n",
    "        dLdW = (np.dot(dLdZ,A_prev.T))/m\n",
    "        grads['dW'+str(i)] = dLdW\n",
    "        \n",
    "        # computing dL/db and entering into grads dictionary\n",
    "        dLdb = (np.sum(dLdZ,axis = 1,keepdims = True))/m\n",
    "        grads['db'+str(i)] = dLdb \n",
    "        W = cache['W'+str(i)]\n",
    "    return grads\n",
    "        \n",
    "def nn_model(X, Y, n_hidden,activation = 'relu', alpha=0.0001, epochs=1000, init_params = None):\n",
    "    \"\"\"\n",
    "    Function implementing the training procedure of the deep neural network.\n",
    "    \"\"\"\n",
    "    if init_params == None:\n",
    "        # initinalize weight and bias parameters\n",
    "        params = init_param(Y,X.shape[0],n_hidden)\n",
    "    else:\n",
    "        params = init_params\n",
    "    for i in range(epochs):     \n",
    "        # forward pass\n",
    "        activation_out,cache = forward_prop(X,params,activation=activation)\n",
    "        \n",
    "        # compute loss\n",
    "        loss = softmax_loss(activation_out,Y)\n",
    "        \n",
    "        # back-propagation\n",
    "        gradients = back_prop(activation_out,Y,cache,activation=activation)\n",
    "        \n",
    "        # update parameters\n",
    "        n_layers = len(params)//2\n",
    "\n",
    "        for j in range(1,n_layers+1):\n",
    "            params['W'+str(j)] = params['W'+str(j)] - alpha * gradients['dW'+str(j)] \n",
    "            params['b'+str(j)] = params['b'+str(j)] - alpha * gradients['db'+str(j)]\n",
    "        \n",
    "        # printing loss value every 100 epochs\n",
    "        if i%100 == 0:\n",
    "            print('Epoch ',i,': Cost = ',loss)\n",
    "    return params\n",
    "\n",
    "def preprocess_y(Y_in): # Y_in should have shape (num_elements,)\n",
    "    Y = np.reshape(Y_in,newshape = (1,Y_in.shape[0]))\n",
    "    y_train_input = np.zeros((len(np.unique(Y)),Y.shape[1]))\n",
    "    unique_elements = list(np.unique(Y))\n",
    "    unique_elements_mapped = list(range(len(np.unique(Y))))\n",
    "    y_list = list(Y[0])\n",
    "    y_list_mapped = list(map(lambda x:unique_elements_mapped[np.where(unique_elements==x)[0][0]],y_list))\n",
    "    mapping = np.reshape(np.concatenate((np.array(unique_elements),np.array(unique_elements_mapped))),newshape=(2,len(unique_elements)))\n",
    "    for i in range(len(y_list)):\n",
    "        for j in range(len(unique_elements_mapped)):\n",
    "            if y_list_mapped[i] == unique_elements_mapped[j]:\n",
    "                y_train_input[j,i] = 1\n",
    "    return y_train_input,mapping\n",
    "        \n",
    "def predict(X,params):\n",
    "    activations,memory = forward_prop(X,params)\n",
    "    preds = np.zeros(activations.shape)\n",
    "    for i in range(activations.shape[1]):\n",
    "        temp = activations[:,i]\n",
    "        preds[np.argmax(temp),i] = 1\n",
    "    return np.argmax(preds,axis=0)\n",
    " \n",
    "def accuracy(preds,y):\n",
    "    tot = y.shape[0]\n",
    "    return np.sum(preds==y)/tot*100\n",
    "\n",
    "def save_params(dictionary,name):\n",
    "    pickle_out = open(name,\"wb\")\n",
    "    pickle.dump(dictionary,pickle_out)\n",
    "    pickle_out.close()\n",
    "    return\n",
    "\n",
    "def open_params(name):\n",
    "    pickle_in = open(name,\"rb\")\n",
    "    return pickle.load(pickle_in)\n",
    "\n",
    "def classify_instance(data,image_no,params):\n",
    "    if len(data.shape)==3:\n",
    "        image = data[image_no,:,:].reshape((1,data.shape[1],data.shape[2]))\n",
    "    else:\n",
    "        image = data[image_no,:,:,:].reshape((1,data.shape[1],data.shape[2],data.shape[3]))\n",
    "    image_norm = flatten_and_normalize(image)\n",
    "    plt.imshow(data[image_no,:,:],cmap=plt.get_cmap('gray'))\n",
    "    pred = predict(image_norm,params)[0]\n",
    "    print('The predicted class is ',pred)\n",
    "    return    "
   ]
  },
  {
   "cell_type": "markdown",
   "metadata": {},
   "source": [
    "We shall test the show_image function which shows an image from the data."
   ]
  },
  {
   "cell_type": "code",
   "execution_count": 10,
   "metadata": {},
   "outputs": [
    {
     "data": {
      "image/png": "[encoded data removed]",
      "text/plain": [
       "<Figure size 432x288 with 1 Axes>"
      ]
     },
     "metadata": {
      "needs_background": "light"
     },
     "output_type": "display_data"
    }
   ],
   "source": [
    "# show the 6th image in x_train\n",
    "show_image(x_train,5)"
   ]
  },
  {
   "cell_type": "markdown",
   "metadata": {},
   "source": [
    "Now that we've coded all our functions, we shall preprocess our data to input into our neural network"
   ]
  },
  {
   "cell_type": "code",
   "execution_count": 77,
   "metadata": {},
   "outputs": [
    {
     "name": "stdout",
     "output_type": "stream",
     "text": [
      "X_train dimensions: (784, 60000)\n",
      "Y_train dimensions: (10, 60000)\n"
     ]
    }
   ],
   "source": [
    "x_train_input = flatten_and_normalize(x_train)\n",
    "y_train_input,mapping = preprocess_y(y_train)\n",
    "print('X_train dimensions:',x_train_input.shape)\n",
    "print('Y_train dimensions:',y_train_input.shape)"
   ]
  },
  {
   "cell_type": "markdown",
   "metadata": {},
   "source": [
    "I have already trained my network for about 1.5 hours and saved my parameters. We shall load these trained parameters for prediction."
   ]
  },
  {
   "cell_type": "code",
   "execution_count": 78,
   "metadata": {},
   "outputs": [],
   "source": [
    "mnist_params = open_params(\"MNIST_params_12000.pickle\")\n",
    "cat_params = open_params(\"catvsnoncat_params_2400.pickle\")"
   ]
  },
  {
   "cell_type": "markdown",
   "metadata": {},
   "source": [
    "You can start training the network using the nn_model function. I trained the network for 12000 epochs on the MNIST dataset to get my parameters mnist_params. Total training time was around 1.5 hours."
   ]
  },
  {
   "cell_type": "code",
   "execution_count": 55,
   "metadata": {},
   "outputs": [
    {
     "name": "stdout",
     "output_type": "stream",
     "text": [
      "Epoch  0 : Cost =  0.6645060697135088\n",
      "Epoch  100 : Cost =  0.5451612180169071\n",
      "Epoch  200 : Cost =  0.4649588330186332\n",
      "Epoch  300 : Cost =  0.3955263459939174\n",
      "Epoch  400 : Cost =  0.33551329910614913\n",
      "Epoch  500 : Cost =  0.292495594957442\n",
      "Epoch  600 : Cost =  0.2549141938365787\n",
      "Epoch  700 : Cost =  0.2174846576171648\n",
      "Epoch  800 : Cost =  0.19301048329010767\n",
      "Epoch  900 : Cost =  0.13960675792042293\n",
      "Epoch  1000 : Cost =  0.1105245320052982\n",
      "Epoch  1100 : Cost =  0.09475257003169259\n",
      "Epoch  1200 : Cost =  0.07453093628158868\n",
      "Epoch  1300 : Cost =  0.06378998272510761\n",
      "Epoch  1400 : Cost =  0.054119056822700656\n",
      "Epoch  1500 : Cost =  0.046483447051926266\n",
      "Epoch  1600 : Cost =  0.04051600999066786\n",
      "Epoch  1700 : Cost =  0.03553816025986224\n",
      "Epoch  1800 : Cost =  0.03146131443280601\n",
      "Epoch  1900 : Cost =  0.027929278844826315\n",
      "Epoch  2000 : Cost =  0.025034966971407585\n",
      "Epoch  2100 : Cost =  0.022549110461506018\n",
      "Epoch  2200 : Cost =  0.020427826686482516\n",
      "Epoch  2300 : Cost =  0.01861373805494785\n"
     ]
    }
   ],
   "source": [
    "final_params = nn_model(x_train_input,y_train_input,n_hidden = [50,20],activation = 'relu',alpha=0.003,epochs=2400)"
   ]
  },
  {
   "cell_type": "markdown",
   "metadata": {},
   "source": [
    "We shall use our loaded parameter sets mnist_params and cat_params for prediction"
   ]
  },
  {
   "cell_type": "code",
   "execution_count": 79,
   "metadata": {},
   "outputs": [
    {
     "name": "stdout",
     "output_type": "stream",
     "text": [
      "Training data accuracy: 95.76833333333333\n",
      "Test data accuracy: 95.28999999999999\n"
     ]
    }
   ],
   "source": [
    "y_test_input,mapping_test = preprocess_y(y_test)\n",
    "x_test_input = flatten_and_normalize(x_test)\n",
    "preds = predict(x_train_input,mnist_params)\n",
    "preds_test = predict(x_test_input,mnist_params)\n",
    "print('Training data accuracy:',accuracy(preds,y_train))\n",
    "print('Test data accuracy:',accuracy(preds_test,y_test))"
   ]
  },
  {
   "cell_type": "markdown",
   "metadata": {},
   "source": [
    "Using the mnist_params set, we get a training accuracy of 95.76% and a testing accuracy of 95.28% on the MNIST dataset, which seems quite good. Convolutional neural networks can get to even higher accuracies due to their ability to detect edges and patterns in multiple areas of the image."
   ]
  },
  {
   "cell_type": "markdown",
   "metadata": {},
   "source": [
    "Using the classify_instance function, you can visualize and even predict individual examples from the testing or training sets."
   ]
  },
  {
   "cell_type": "code",
   "execution_count": 84,
   "metadata": {},
   "outputs": [
    {
     "name": "stdout",
     "output_type": "stream",
     "text": [
      "The predicted class is  5\n"
     ]
    },
    {
     "data": {
      "image/png": "[encoded data removed]",
      "text/plain": [
       "<Figure size 432x288 with 1 Axes>"
      ]
     },
     "metadata": {
      "needs_background": "light"
     },
     "output_type": "display_data"
    }
   ],
   "source": [
    "# second argument is the image number\n",
    "classify_instance(x_test,1879,mnist_params)"
   ]
  },
  {
   "cell_type": "code",
   "execution_count": 60,
   "metadata": {},
   "outputs": [],
   "source": [
    "#save_params(final_params,\"catvsnoncat_params_2400.pickle\")"
   ]
  }
 ],
 "metadata": {
  "kernelspec": {
   "display_name": "Python 3",
   "language": "python",
   "name": "python3"
  },
  "language_info": {
   "codemirror_mode": {
    "name": "ipython",
    "version": 3
   },
   "file_extension": ".py",
   "mimetype": "text/x-python",
   "name": "python",
   "nbconvert_exporter": "python",
   "pygments_lexer": "ipython3",
   "version": "3.7.7"
  }
 },
 "nbformat": 4,
 "nbformat_minor": 4
}
